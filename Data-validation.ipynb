{
 "cells": [
  {
   "cell_type": "code",
   "execution_count": 1,
   "metadata": {
    "scrolled": true
   },
   "outputs": [
    {
     "name": "stderr",
     "output_type": "stream",
     "text": [
      "Using TensorFlow backend.\n"
     ]
    }
   ],
   "source": [
    "import os\n",
    "import sys\n",
    "sys.path.append(os.pardir) \n",
    "\n",
    "import numpy as np\n",
    "import matplotlib.pyplot as plt\n",
    "import pandas as pd\n",
    "\n",
    "from keras.preprocessing.text import Tokenizer\n",
    "from keras.preprocessing.sequence import pad_sequences\n",
    "from keras.utils import to_categorical\n",
    "from keras.layers import Embedding, Dense, Input, Bidirectional, LSTM, Dropout, CuDNNLSTM\n",
    "from keras.models import Model\n",
    "from keras.callbacks import EarlyStopping, ModelCheckpoint\n",
    "\n",
    "import pickle\n",
    "import codecs\n",
    "import csv\n",
    "import struct\n",
    "\n",
    "from numpy import genfromtxt\n",
    "\n",
    "import keras\n",
    "from keras.models import Sequential\n",
    "from keras.callbacks import ModelCheckpoint\n",
    "from keras.layers import Dense, LSTM, Dropout, CuDNNLSTM\n",
    "import matplotlib.pyplot as plt\n",
    "%matplotlib inline"
   ]
  },
  {
   "cell_type": "code",
   "execution_count": 2,
   "metadata": {},
   "outputs": [],
   "source": [
    "# Data file path\n",
    "Guryongpo_Swell_Data_Path = './Data/1.Guryongpo_Swell(14~17).csv'\n",
    "Wolopo_Swell_Data_Path = './Data/2.Wolpo_Swell(15~17).csv'\n",
    "Pohang_Weather_Data_Path = './Data/3.Pohang_Weather(14~17).csv'"
   ]
  },
  {
   "cell_type": "code",
   "execution_count": 3,
   "metadata": {},
   "outputs": [],
   "source": [
    "# Data list\n",
    "Guryongpo_Swell = []\n",
    "Wolopo_Swell = []\n",
    "Guryongpo_Swell_with_Weather = []\n",
    "Wolopo_Swell_with_Weather = []"
   ]
  },
  {
   "cell_type": "code",
   "execution_count": 4,
   "metadata": {},
   "outputs": [],
   "source": [
    "# string list \n",
    "\n",
    "# Only Weather\n",
    "w = ['평균기온(°C)', '최저기온(°C)','최저기온 시각(hhmi)','최고기온(°C)',\n",
    "      '최고기온 시각(hhmi)','강수 계속시간(hr)','일강수량(mm)','최대 순간 풍속(m/s)',\n",
    "      '최대 순간 풍속 풍향(16방위)','최대 순간풍속 시각(hhmi)','최대 풍속(m/s)',\n",
    "      '최대 풍속 풍향(16방위)','최대 풍속 시각(hhmi)','평균 풍속(m/s)','풍정합(100m)',\n",
    "      '평균 이슬점온도(°C)','최소 상대습도(%)','최소 상대습도 시각(hhmi)',\n",
    "      '평균 상대습도(%)','평균 증기압(hPa)','평균 현지기압(hPa)','최고 해면기압(hPa)',\n",
    "      '최고 해면기압 시각(hhmi)','최저 해면기압(hPa)','최저 해면기압 시각(hhmi)',\n",
    "      '평균 해면기압(hPa)','가조시간(hr)','합계 일조 시간(hr)','1시간 최다일사 시각(hhmi)',\n",
    "      '1시간 최다일사량(MJ/m2)','합계 일사(MJ/m2)','평균 전운량(1/10)','평균 중하층운량(1/10)',\n",
    "      '평균 지면온도(°C)','최저 초상온도(°C)','평균 5cm 지중온도(°C)','평균 10cm 지중온도(°C)',\n",
    "      '평균 20cm 지중온도(°C)','평균 30cm 지중온도(°C)','0.5m 지중온도(°C)','1.0m 지중온도(°C)',\n",
    "      '1.5m 지중온도(°C)','3.0m 지중온도(°C)','5.0m 지중온도(°C)','합계 대형증발량(mm)',\n",
    "      '합계 소형증발량(mm)']\n",
    "    \n",
    "# Only Swell\n",
    "o = ['평균 수온(°C)', '최고 수온(°C)', '최저 수온(°C)', '평균 유의 파고(m)',\n",
    "     '평균 파고(m)', '최고 유의 파고(m)', '최고 최대 파고(m)','평균 파주기(sec)', '최고 파주기(sec)',]\n",
    "\n",
    "\n",
    "# Guryongpo_Swell + Wolpo_Swell\n",
    "m = ['G_평균 수온(°C)','W_평균 수온(°C)', 'G_최고 수온(°C)','W_최고 수온(°C)', \n",
    "     'G_최저 수온(°C)', 'W_최저 수온(°C)', 'G_평균 유의 파고(m)','W_평균 유의 파고(m)','G_평균 파고(m)',\n",
    "     'W_평균 파고(m)', 'G_최고 유의 파고(m)','W_최고 유의 파고(m)', 'G_최고 최대 파고(m)','W_최고 최대 파고(m)',\n",
    "     'G_평균 파주기(sec)','W_평균 파주기(sec)', 'G_최고 파주기(sec)', 'W_최고 파주기(sec)']\n",
    "\n",
    "# Swell + Weather\n",
    "c = np.concatenate([o,w], axis=0)"
   ]
  },
  {
   "cell_type": "code",
   "execution_count": 5,
   "metadata": {},
   "outputs": [
    {
     "name": "stdout",
     "output_type": "stream",
     "text": [
      "55\n",
      "9.0\n"
     ]
    }
   ],
   "source": [
    "print(len(c))\n",
    "print(len(m)/2)"
   ]
  },
  {
   "cell_type": "code",
   "execution_count": 6,
   "metadata": {},
   "outputs": [],
   "source": [
    "# Data after merge\n",
    "Column_Sum_Swell = []\n",
    "Row_Sum_Swell = []"
   ]
  },
  {
   "cell_type": "code",
   "execution_count": 7,
   "metadata": {},
   "outputs": [],
   "source": [
    "# Weather data list\n",
    "Pohang_Weather = []"
   ]
  },
  {
   "cell_type": "code",
   "execution_count": 8,
   "metadata": {},
   "outputs": [],
   "source": [
    "# Dataframe \n",
    "Guryongpo_DF = []\n",
    "Guryongpo_Swell_with_Weather_DF =[]\n",
    "\n",
    "Wolopo_DF = []\n",
    "Wolopo_Swell_with_Weather_DF = []\n",
    "\n",
    "Pohang_DF = []"
   ]
  },
  {
   "cell_type": "code",
   "execution_count": 9,
   "metadata": {},
   "outputs": [],
   "source": [
    "# Dataframe \n",
    "Column_Sum_DF = []\n",
    "Row_Sum_DF = []"
   ]
  },
  {
   "cell_type": "code",
   "execution_count": 10,
   "metadata": {},
   "outputs": [],
   "source": [
    "# load csv file \n",
    "def loadData():   \n",
    "    print(\"Data loading...\")\n",
    "    \n",
    "    global Guryongpo_Swell\n",
    "    global Wolopo_Swell\n",
    "    global Pohang_Weather\n",
    "    \n",
    "    global Guryongpo_Swell_with_Weather\n",
    "    global Wolopo_Swell_with_Weather\n",
    "    \n",
    "    \n",
    "    global Guryongpo_DF\n",
    "    global Guryongpo_Swell_with_Weather_DF\n",
    "    \n",
    "    global Wolopo_DF\n",
    "    global Wolopo_Swell_with_Weather_DF\n",
    "    \n",
    "    global Pohang_DF\n",
    "    \n",
    "    # Read csv file from directory\n",
    "    Guryongpo = genfromtxt(Guryongpo_Swell_Data_Path, delimiter=',' ,encoding='UTF8')\n",
    "    Wolopo = genfromtxt(Wolopo_Swell_Data_Path, delimiter=',', encoding='UTF8')\n",
    "    Pohang = genfromtxt(Pohang_Weather_Data_Path, delimiter=',', encoding='UTF8')\n",
    "    \n",
    "    \n",
    "    # Remove colums and row\n",
    "    Guryongpo_Swell = Guryongpo[1:,3:]\n",
    "    Wolopo_Swell = Wolopo[1:,3:]\n",
    "    Pohang_Weather = Pohang[1:,2:]\n",
    "    \n",
    "    \n",
    "    # Convert string to float64\n",
    "    Guryongpo_Swell.astype('float64')\n",
    "    Wolopo_Swell.astype('float64')\n",
    "    Pohang_Weather.astype('float64')\n",
    " \n",
    "   \n",
    "    # Fill NaN data to 0   \n",
    "    Guryongpo_Swell[np.isnan(Guryongpo_Swell)] = 0\n",
    "    Wolopo_Swell[np.isnan(Wolopo_Swell)] = 0\n",
    "    Pohang_Weather[np.isnan(Pohang_Weather)] = 0\n",
    "\n",
    "    \n",
    "    # Guryongpo  - Wolopo\n",
    "    dis = len(Guryongpo_Swell)- len(Wolopo_Swell)\n",
    "    \n",
    "    \n",
    "    # Concatenate between swell and weather data\n",
    "    Guryongpo_Swell_with_Weather = np.concatenate([Guryongpo_Swell,Pohang_Weather], axis=1)\n",
    "    Wolopo_Swell_with_Weather = np.concatenate([Wolopo_Swell,Pohang_Weather[dis:]], axis=1)\n",
    "    \n",
    "     \n",
    "    # Dataframe\n",
    "    Guryongpo_DF = pd.DataFrame(Guryongpo_Swell, columns = o)\n",
    "    Guryongpo_Swell_with_Weather_DF = pd.DataFrame(Guryongpo_Swell_with_Weather, columns = c)\n",
    "    \n",
    "    Wolopo_DF = pd.DataFrame(Wolopo_Swell, columns = o)\n",
    "    Wolopo_Swell_with_Weather_DF = pd.DataFrame(Wolopo_Swell_with_Weather, columns = c)\n",
    "\n",
    "    Pohang_DF = pd.DataFrame(Pohang_Weather, columns = w)"
   ]
  },
  {
   "cell_type": "code",
   "execution_count": 11,
   "metadata": {
    "scrolled": false
   },
   "outputs": [
    {
     "name": "stdout",
     "output_type": "stream",
     "text": [
      "Data loading...\n"
     ]
    }
   ],
   "source": [
    "loadData()"
   ]
  },
  {
   "cell_type": "code",
   "execution_count": 12,
   "metadata": {},
   "outputs": [
    {
     "name": "stdout",
     "output_type": "stream",
     "text": [
      "(1438, 46)\n"
     ]
    }
   ],
   "source": [
    "print(Pohang_Weather.shape)"
   ]
  },
  {
   "cell_type": "code",
   "execution_count": 13,
   "metadata": {},
   "outputs": [],
   "source": [
    "# 2015-09-25 부터 colum sum \n",
    "# 구룡포의 2014 데이터는 어떻게 할 것인지 보류 (2014 구룡포 데이터는 있지만 월포의 데이터가 없음)\n",
    "# Data merge by column\n",
    "def sumColumnData():\n",
    "    print(\"process colum sum...\")\n",
    "    global Guryongpo_Swell\n",
    "    global Wolopo_Swell\n",
    "    global Column_Sum_Swell\n",
    "    global Column_Sum_DF\n",
    "    \n",
    "    global c\n",
    "    global m\n",
    "    \n",
    "    for i in range(len(Guryongpo_Swell)):\n",
    "        dis = len(Guryongpo_Swell)- len(Wolopo_Swell)\n",
    "        if(i< dis):\n",
    "            continue\n",
    "        else:\n",
    "            data = []\n",
    "            for colum in range(len(Guryongpo_Swell[0])):\n",
    "                g = Guryongpo_Swell[i][colum]\n",
    "                w = Wolopo_Swell[i-dis][colum]\n",
    "                data.append(g)\n",
    "                data.append(w)\n",
    "            \n",
    "            for w in range(len(Guryongpo_Swell[0]),len(Guryongpo_Swell_with_Weather[0])):    \n",
    "                weather = Guryongpo_Swell_with_Weather[i][w]\n",
    "                data.append(weather)\n",
    "            Column_Sum_Swell.append(data)    \n",
    "       \n",
    "    t = np.concatenate([m,c[9:]])\n",
    "    Column_Sum_Swell = np.array(Column_Sum_Swell)\n",
    "    Column_Sum_DF = pd.DataFrame(Column_Sum_Swell, columns = t)"
   ]
  },
  {
   "cell_type": "code",
   "execution_count": 14,
   "metadata": {},
   "outputs": [],
   "source": [
    "# Data merge by row\n",
    "def sumRowData():\n",
    "    global Guryongpo_Swell\n",
    "    global Wolopo_Swell\n",
    "    global Row_Sum_Swell\n",
    "    global Row_Sum_DF\n",
    "    global c\n",
    "    \n",
    "    for i in range(len(Guryongpo_Swell_with_Weather)):\n",
    "        dis = len(Guryongpo_Swell_with_Weather)- len(Wolopo_Swell_with_Weather)\n",
    "        if(i< dis):\n",
    "            g = Guryongpo_Swell_with_Weather[i]\n",
    "            Row_Sum_Swell.append(g)\n",
    "        else:\n",
    "            g = Guryongpo_Swell_with_Weather[i]\n",
    "            w = Wolopo_Swell_with_Weather[i-dis]\n",
    "            Row_Sum_Swell.append(g)\n",
    "            Row_Sum_Swell.append(w)  \n",
    "            \n",
    "    Row_Sum_Swell = np.array(Row_Sum_Swell)\n",
    "    Row_Sum_DF = pd.DataFrame(Row_Sum_Swell, columns = c)\n",
    "    #"
   ]
  },
  {
   "cell_type": "code",
   "execution_count": 15,
   "metadata": {},
   "outputs": [
    {
     "name": "stdout",
     "output_type": "stream",
     "text": [
      "전 :  (1438, 1)\n",
      "전 :  (1438, 46)\n",
      "후 :  (1377, 1)\n",
      "후 :  (1377, 46)\n"
     ]
    }
   ],
   "source": [
    "'''\n",
    "global Guryongpo_Swell\n",
    "global Pohang_Weather\n",
    "global o # Swell data column string\n",
    "global w # Weather data column string\n",
    "'''\n",
    "    \n",
    "# data split by each column\n",
    "target = []\n",
    "weather = []\n",
    "\n",
    "# 이거 index값을 기억해뒀다가 나중에 predict한값들로 데이터 채우기\n",
    "delete_index = [] # nparray에서 delete할 index들의 list \n",
    "\n",
    "# 비어있는 값들  (x값은 있음, y값 비어있음)\n",
    "empty_x = [] # y값 비어있는 곳 predict에 사용할 weather정보\n",
    "empty_y = [] # weather 정보를 이용해 예측할 swell information의 컬럼 값집함\n",
    "\n",
    "weather = np.array(np.copy(Pohang_Weather))\n",
    "target = np.copy(Guryongpo_Swell[:,0])\n",
    "target = np.reshape(target, (target.shape[0],1))\n",
    "\n",
    "\n",
    "print(\"전 : \" ,target.shape)\n",
    "print(\"전 : \" ,weather.shape)\n",
    "for i in range(len(target)):\n",
    "    if(target[i]==0):\n",
    "        delete_index.append(i)\n",
    "        empty_y.append(target[i])\n",
    "        empty_x.append(weather[i])\n",
    "\n",
    "        \n",
    "# 값이 비어있는 row는 분리 - > 나중에 predict해서 채울수 있도록\n",
    "# 분리되지 않은 데이터들을 가지고 train / validation / test 로 나눠서 LSTM 모델을 만든다\n",
    "# 만든 모델을 가지고 비어있던 값들을 empty_x -> empty _y로 예측 해서 값을 채워넣는다.\n",
    "target = np.delete(target, delete_index)\n",
    "target = np.reshape(target, (target.shape[0],1))\n",
    "weather = np.delete(weather, delete_index, 0)\n",
    "\n",
    "empty_x = np.array(empty_x)\n",
    "empty_y = np.array(empty_y)\n",
    "#return columnData\n",
    "\n",
    "print(\"후 : \",target.shape)\n",
    "print(\"후 : \",weather.shape)"
   ]
  },
  {
   "cell_type": "code",
   "execution_count": 25,
   "metadata": {},
   "outputs": [],
   "source": [
    "# path where all models are saved\n",
    "BASE_PATH = './swellModel/'\n",
    "if not os.path.exists(BASE_PATH):\n",
    "    os.mkdir(BASE_PATH)\n",
    "\n",
    "def create_checkpoint(model_name):\n",
    "    # creates a subdirectory under `BASE_PATH`\n",
    "    MODEL_PATH = os.path.join(BASE_PATH, model_name)\n",
    "    if not os.path.exists(MODEL_PATH):\n",
    "        os.mkdir(MODEL_PATH)\n",
    "    \n",
    "    return ModelCheckpoint(filepath=os.path.join(MODEL_PATH, '{epoch:02d}-{val_loss:.4f}.hdf5'),\n",
    "                           monitor='val_loss',\n",
    "                           verbose=1,\n",
    "                           save_best_only=True)"
   ]
  },
  {
   "cell_type": "code",
   "execution_count": 26,
   "metadata": {
    "scrolled": true
   },
   "outputs": [
    {
     "data": {
      "image/png": "[encoded data removed]",
      "text/plain": [
       "<Figure size 432x288 with 1 Axes>"
      ]
     },
     "metadata": {},
     "output_type": "display_data"
    }
   ],
   "source": [
    "%matplotlib inline\n",
    "import matplotlib.pyplot as plt\n",
    "\n",
    "plot_x = np.arange(len(target))\n",
    "plot_y = target\n",
    "plt.plot(plot_x, plot_y)\n",
    "plt.show()"
   ]
  },
  {
   "cell_type": "code",
   "execution_count": 27,
   "metadata": {},
   "outputs": [
    {
     "data": {
      "text/plain": [
       "(1377, 46)"
      ]
     },
     "execution_count": 27,
     "metadata": {},
     "output_type": "execute_result"
    }
   ],
   "source": [
    "# 1. 데이터셋 생성하기\n",
    "signal_data = np.cos(np.arange(1600)*(20*np.pi/1000))[:,None]\n",
    "\n",
    "# 데이터 전처리\n",
    "signal_data.shape\n",
    "weather.shape"
   ]
  },
  {
   "cell_type": "code",
   "execution_count": 28,
   "metadata": {},
   "outputs": [],
   "source": [
    "def create_dataset(signal_data, look_back):\n",
    "    dataX, dataY = [], []\n",
    "    for i in range(len(signal_data)-look_back):\n",
    "        dataX.append(signal_data[i:(i+look_back), 0])\n",
    "        dataY.append(signal_data[i + look_back, 0])\n",
    "    return np.array(dataX), np.array(dataY)\n",
    "\n",
    "class CustomHistory(keras.callbacks.Callback):\n",
    "    def init(self):\n",
    "        self.train_loss = []\n",
    "        self.val_loss = []\n",
    "        \n",
    "    def on_epoch_end(self, batch, logs={}):\n",
    "        self.train_loss.append(logs.get('loss'))\n",
    "        self.val_loss.append(logs.get('val_loss'))\n",
    "\n",
    "\n",
    "look_back = 3\n",
    "\n",
    "# 데이터 분리\n",
    "train = target[0:int(len(target)*0.5)]\n",
    "val = target[int(len(target)*0.5):int(len(target)*0.75)]\n",
    "test = target[int(len(target)*0.75):]\n",
    "\n",
    "\n",
    "# 데이터셋 생성\n",
    "x_train, y_train = create_dataset(train, look_back)\n",
    "x_val, y_val = create_dataset(val, look_back)\n",
    "x_test, y_test = create_dataset(test, look_back)\n",
    "\n",
    "# 체크포인트 생성\n",
    "checkpoint = create_checkpoint('lstm') "
   ]
  },
  {
   "cell_type": "code",
   "execution_count": null,
   "metadata": {},
   "outputs": [],
   "source": [
    "# 데이터셋 전처리\n",
    "x_train = np.reshape(x_train, (x_train.shape[0], x_train.shape[1], 1))\n",
    "x_val = np.reshape(x_val, (x_val.shape[0], x_val.shape[1], 1))\n",
    "x_test = np.reshape(x_test, (x_test.shape[0], x_test.shape[1], 1))\n",
    "\n",
    "\n",
    "# 2. 모델 구성하기\n",
    "model = Sequential()\n",
    "model.add(CuDNNLSTM(32, batch_input_shape=(1, look_back, 1), stateful=True, return_sequences=True))\n",
    "model.add(Dropout(0.3))\n",
    "model.add(CuDNNLSTM(32, batch_input_shape=(1, look_back, 1), stateful=True, return_sequences=True))\n",
    "model.add(Dropout(0.3))      \n",
    "model.add(CuDNNLSTM(32, batch_input_shape=(1, look_back, 1), stateful=True))\n",
    "model.add(Dropout(0.3))\n",
    "model.add(Dense(1))\n",
    "\n",
    "# 3. 모델 학습과정 설정하기\n",
    "model.compile(loss='mean_squared_error', optimizer='adam')\n",
    "\n",
    "# 4. 모델 학습시키기\n",
    "custom_hist = CustomHistory()\n",
    "custom_hist.init()\n",
    "\n",
    "#for i in range(200):\n",
    "model.fit(x_train, y_train, epochs=300, batch_size=1, shuffle=False, callbacks=[custom_hist, checkpoint], validation_data=(x_val, y_val))\n",
    "# model.reset_states()"
   ]
  },
  {
   "cell_type": "code",
   "execution_count": 32,
   "metadata": {},
   "outputs": [
    {
     "data": {
      "image/png": "[encoded data removed]",
      "text/plain": [
       "<Figure size 432x288 with 1 Axes>"
      ]
     },
     "metadata": {},
     "output_type": "display_data"
    }
   ],
   "source": [
    "# 5. 학습과정 살펴보기\n",
    "plt.plot(custom_hist.train_loss)\n",
    "plt.plot(custom_hist.val_loss)\n",
    "plt.ylim(0.0, 40)\n",
    "plt.ylabel('loss')\n",
    "plt.xlabel('epoch')\n",
    "plt.legend(['train', 'val'], loc='upper left')\n",
    "plt.show()"
   ]
  },
  {
   "cell_type": "code",
   "execution_count": 34,
   "metadata": {},
   "outputs": [
    {
     "name": "stdout",
     "output_type": "stream",
     "text": [
      "Train Score:  1.0570649661662983\n",
      "Validataion Score:  2.067567135133443\n",
      "Test Score:  1.3390175890684832\n"
     ]
    }
   ],
   "source": [
    "# 6. 모델 평가하기\n",
    "trainScore = model.evaluate(x_train, y_train, batch_size=1, verbose=0)\n",
    "model.reset_states()\n",
    "print('Train Score: ', trainScore)\n",
    "valScore = model.evaluate(x_val, y_val, batch_size=1, verbose=0)\n",
    "model.reset_states()\n",
    "print('Validataion Score: ', valScore)\n",
    "testScore = model.evaluate(x_test, y_test, batch_size=1, verbose=0)\n",
    "model.reset_states()\n",
    "print('Test Score: ', testScore)"
   ]
  },
  {
   "cell_type": "code",
   "execution_count": null,
   "metadata": {},
   "outputs": [],
   "source": [
    "# 7. 모델 사용하기\n",
    "look_ahead = 250\n",
    "xhat = x_test[0]\n",
    "predictions = np.zeros((look_ahead,1))\n",
    "for i in range(look_ahead):\n",
    "    prediction = model.predict(np.array([xhat]), batch_size=1)\n",
    "    predictions[i] = prediction\n",
    "    xhat = np.vstack([xhat[1:],prediction])\n",
    "    \n",
    "plt.figure(figsize=(12,5))\n",
    "plt.plot(np.arange(look_ahead),predictions,'r',label=\"prediction\")\n",
    "plt.plot(np.arange(look_ahead),y_test[:look_ahead],label=\"test function\")\n",
    "plt.legend()\n",
    "plt.show()"
   ]
  },
  {
   "cell_type": "code",
   "execution_count": null,
   "metadata": {
    "scrolled": true
   },
   "outputs": [],
   "source": []
  },
  {
   "cell_type": "code",
   "execution_count": null,
   "metadata": {},
   "outputs": [],
   "source": [
    "print(empty_y.shape)\n",
    "print(empty_x.shape)"
   ]
  },
  {
   "cell_type": "code",
   "execution_count": null,
   "metadata": {
    "scrolled": true
   },
   "outputs": [],
   "source": [
    "loadData()"
   ]
  },
  {
   "cell_type": "code",
   "execution_count": null,
   "metadata": {
    "scrolled": true
   },
   "outputs": [],
   "source": [
    "#Guryongpo_DF[:5]"
   ]
  },
  {
   "cell_type": "code",
   "execution_count": null,
   "metadata": {
    "scrolled": true
   },
   "outputs": [],
   "source": [
    "#Wolopo_DF[:5]"
   ]
  },
  {
   "cell_type": "code",
   "execution_count": null,
   "metadata": {
    "scrolled": false
   },
   "outputs": [],
   "source": [
    "sumColumnData()"
   ]
  },
  {
   "cell_type": "code",
   "execution_count": null,
   "metadata": {
    "scrolled": true
   },
   "outputs": [],
   "source": [
    "# 2015-9-25 ~\n",
    "#Column_Sum_DF[:5]"
   ]
  },
  {
   "cell_type": "code",
   "execution_count": null,
   "metadata": {},
   "outputs": [],
   "source": [
    "sumRowData()"
   ]
  },
  {
   "cell_type": "code",
   "execution_count": null,
   "metadata": {
    "scrolled": true
   },
   "outputs": [],
   "source": [
    "# 2014-01-01 ~\n",
    "#Row_Sum_DF[:5]"
   ]
  },
  {
   "cell_type": "code",
   "execution_count": null,
   "metadata": {},
   "outputs": [],
   "source": [
    "signal_data = np.cos(np.arange(1600)*(20*np.pi/1000))[:,None]"
   ]
  },
  {
   "cell_type": "code",
   "execution_count": null,
   "metadata": {},
   "outputs": [],
   "source": []
  },
  {
   "cell_type": "code",
   "execution_count": null,
   "metadata": {},
   "outputs": [],
   "source": [
    "def create_dataset(signal_data, look_back=1):\n",
    "    dataX, dataY = [], []\n",
    "    for i in range(len(signal_data)-look_back):\n",
    "        dataX.append(signal_data[i:(i+look_back), 0])\n",
    "        dataY.append(signal_data[i + look_back, 0])\n",
    "    return np.array(dataX), np.array(dataY)"
   ]
  }
 ],
 "metadata": {
  "kernelspec": {
   "display_name": "Python 3",
   "language": "python",
   "name": "python3"
  },
  "language_info": {
   "codemirror_mode": {
    "name": "ipython",
    "version": 3
   },
   "file_extension": ".py",
   "mimetype": "text/x-python",
   "name": "python",
   "nbconvert_exporter": "python",
   "pygments_lexer": "ipython3",
   "version": "3.6.5"
  }
 },
 "nbformat": 4,
 "nbformat_minor": 2
}
